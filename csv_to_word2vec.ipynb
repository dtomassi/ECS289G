{
 "cells": [
  {
   "cell_type": "code",
   "execution_count": 49,
   "metadata": {},
   "outputs": [],
   "source": [
    "import codecs\n",
    "\n",
    "# Change fp to tweets csv of social_spambots_2.csv from http://mib.projects.iit.cnr.it/dataset.html\n",
    "csv_fp = '/home/david/Desktop/social_spambots_2.csv/tweets.csv'\n",
    "\n",
    "# Open csv file and get the tweet part of the csv.\n",
    "# Strip out newlines and quotes around text.\n",
    "with codecs.open(csv_fp, 'r', encoding='utf-8', errors='ignore') as fdata:\n",
    "    sentences = [x.split(',')[1].strip('\\n').strip('\"').lower()\n",
    "                 if len(x.split(',')) > 1 else '' for x in fdata.readlines()]"
   ]
  },
  {
   "cell_type": "code",
   "execution_count": 50,
   "metadata": {},
   "outputs": [],
   "source": [
    "# Tokenize sentences for gensim word2vec.\n",
    "tokenizes_sentences = [sentence.split(' ') for sentence in sentences]    "
   ]
  },
  {
   "cell_type": "code",
   "execution_count": 65,
   "metadata": {},
   "outputs": [
    {
     "name": "stdout",
     "output_type": "stream",
     "text": [
      "428625\n"
     ]
    },
    {
     "data": {
      "text/plain": [
       "['mother', 'daughter', 'java', 'time', 'http://t.co/ipnflgy2da']"
      ]
     },
     "execution_count": 65,
     "metadata": {},
     "output_type": "execute_result"
    }
   ],
   "source": [
    "print(len(tokenizes_sentences))\n",
    "print(tokenizes_sentences[1])"
   ]
  },
  {
   "cell_type": "code",
   "execution_count": 44,
   "metadata": {},
   "outputs": [],
   "source": [
    "from gensim.models import Word2Vec\n",
    "# Train a word2vec model.\n",
    "model = Word2Vec(tokenizes_sentences, min_count=1)"
   ]
  },
  {
   "cell_type": "code",
   "execution_count": 68,
   "metadata": {},
   "outputs": [
    {
     "data": {
      "text/plain": [
       "['text',\n",
       " 'mother',\n",
       " 'daughter',\n",
       " 'java',\n",
       " 'time',\n",
       " 'http://t.co/ipnflgy2da',\n",
       " '#nsfw',\n",
       " 'xxx',\n",
       " 'pics',\n",
       " 'and']"
      ]
     },
     "execution_count": 68,
     "metadata": {},
     "output_type": "execute_result"
    }
   ],
   "source": [
    "list(model.wv.vocab)[:10]"
   ]
  },
  {
   "cell_type": "code",
   "execution_count": 67,
   "metadata": {},
   "outputs": [
    {
     "name": "stderr",
     "output_type": "stream",
     "text": [
      "/usr/local/lib/python3.6/dist-packages/ipykernel_launcher.py:1: DeprecationWarning: Call to deprecated `__getitem__` (Method will be removed in 4.0.0, use self.wv.__getitem__() instead).\n",
      "  \"\"\"Entry point for launching an IPython kernel.\n"
     ]
    },
    {
     "data": {
      "text/plain": [
       "array([-1.1923444 ,  0.03722963, -0.34402746,  1.6997719 , -1.353605  ,\n",
       "        2.2645788 ,  1.7444781 ,  1.3539782 ,  2.706652  ,  0.23909087,\n",
       "        2.9133337 , -1.7410809 ,  0.76657945, -2.1948323 , -0.87692946,\n",
       "       -0.20004529, -0.13441263,  0.5593517 , -0.9452145 ,  0.07329213,\n",
       "        0.08104166, -0.01589753, -0.09591292,  0.92735964, -1.459889  ,\n",
       "        0.13852987,  0.62451535,  0.21375507,  0.5760842 , -1.6965506 ,\n",
       "        1.9320047 , -0.8340434 , -0.7043022 ,  0.3261048 , -1.8425604 ,\n",
       "       -0.78281015,  1.0364954 , -0.24991253,  1.67967   ,  1.1848933 ,\n",
       "        1.4995235 ,  3.3195589 ,  0.22955664,  0.7151312 , -0.50204116,\n",
       "       -0.513799  , -1.8790119 ,  0.16409817, -1.1665107 , -0.28429958,\n",
       "       -0.37807912, -0.45824006,  0.95202947,  1.515169  ,  0.53270334,\n",
       "        1.9701957 ,  0.34950376,  1.96296   ,  0.19186008, -1.0254179 ,\n",
       "        0.47591653, -0.20876828,  0.06547433, -0.66618735,  2.4148076 ,\n",
       "       -1.1586033 ,  0.3227014 , -0.24076381,  1.0078981 , -0.7670182 ,\n",
       "       -1.7502509 ,  0.9117808 ,  0.7851533 ,  2.3821914 ,  0.09729417,\n",
       "       -0.48463082,  0.6024133 ,  1.454638  , -0.34397113,  0.25603968,\n",
       "        1.329794  ,  1.8784379 ,  0.7445342 ,  1.5448239 , -0.350086  ,\n",
       "        0.5255327 ,  0.5996942 , -0.4863086 ,  1.0375416 , -0.46050993,\n",
       "        0.91789114, -0.82311505,  0.49193573,  0.670765  , -0.19445199,\n",
       "        2.228463  ,  0.36606884, -1.4069167 ,  0.54889196,  1.2034136 ],\n",
       "      dtype=float32)"
      ]
     },
     "execution_count": 67,
     "metadata": {},
     "output_type": "execute_result"
    }
   ],
   "source": [
    "model['dad']"
   ]
  },
  {
   "cell_type": "code",
   "execution_count": 62,
   "metadata": {},
   "outputs": [
    {
     "name": "stderr",
     "output_type": "stream",
     "text": [
      "/usr/local/lib/python3.6/dist-packages/ipykernel_launcher.py:1: DeprecationWarning: Call to deprecated `most_similar` (Method will be removed in 4.0.0, use self.wv.most_similar() instead).\n",
      "  \"\"\"Entry point for launching an IPython kernel.\n"
     ]
    },
    {
     "data": {
      "text/plain": [
       "[('mom', 0.8802906274795532),\n",
       " ('brother', 0.8081018924713135),\n",
       " ('sister', 0.7884122133255005),\n",
       " ('phone', 0.7188187837600708),\n",
       " ('boyfriend', 0.7166639566421509),\n",
       " ('she', 0.7150614261627197),\n",
       " ('bro', 0.7042582035064697),\n",
       " ('mum', 0.6966201066970825),\n",
       " ('cousin', 0.69659423828125),\n",
       " ('son', 0.6924066543579102)]"
      ]
     },
     "execution_count": 62,
     "metadata": {},
     "output_type": "execute_result"
    }
   ],
   "source": [
    "model.most_similar(positive=['dad'])"
   ]
  },
  {
   "cell_type": "code",
   "execution_count": null,
   "metadata": {},
   "outputs": [],
   "source": []
  }
 ],
 "metadata": {
  "kernelspec": {
   "display_name": "Python 3",
   "language": "python",
   "name": "python3"
  },
  "language_info": {
   "codemirror_mode": {
    "name": "ipython",
    "version": 3
   },
   "file_extension": ".py",
   "mimetype": "text/x-python",
   "name": "python",
   "nbconvert_exporter": "python",
   "pygments_lexer": "ipython3",
   "version": "3.6.8"
  }
 },
 "nbformat": 4,
 "nbformat_minor": 2
}
